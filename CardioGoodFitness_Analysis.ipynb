{
 "cells": [
  {
   "cell_type": "markdown",
   "id": "111e3a17",
   "metadata": {},
   "source": [
    "# Cardio Good Fitness Case Study"
   ]
  },
  {
   "cell_type": "markdown",
   "id": "b149a07f",
   "metadata": {},
   "source": [
    "* Необходимо определить профиль типичного клиента для продукции, предлагаемой компанией CardioGood Fitness, - беговых дорожек. \n",
    "* Команда маркетологов решила исследовать клиентов в целом и выяснить, есть ли различия между линейками продуктов в отношении характеристик клиентов. \n",
    "* Для этого была собрана информация о всех покупателях беговых дорожек в магазине за последние 3 месяца."
   ]
  },
  {
   "cell_type": "markdown",
   "id": "0a6110ee",
   "metadata": {},
   "source": [
    "**Имеется следующая информация о покупателях:**\n",
    "1. Модель купленного продукта (TM195, TM498 или TM798)\n",
    "2. Пол\n",
    "3. Возраст, в годах\n",
    "4. Образование, в годах\n",
    "5. Семейное положение (single или partnered)\n",
    "6. Семейный годовой доход, в $\n",
    "7. Среднее количество раз, которое клиент планирует использовать беговую дорожку в неделю\n",
    "8. Среднее количество миль, которое клиент ожидает пройти/пробежать каждую неделю\n",
    "9. Самостоятельная оценка физической формы по шкале от 1 до 5 (1 - плохое, 5 - отличное)"
   ]
  },
  {
   "cell_type": "code",
   "execution_count": 1,
   "id": "7bf9aaba",
   "metadata": {},
   "outputs": [],
   "source": [
    "import numpy as np\n",
    "import pandas as pd\n",
    "import matplotlib.pyplot as plt\n",
    "import seaborn as sns"
   ]
  },
  {
   "cell_type": "code",
   "execution_count": 2,
   "id": "45f0b327",
   "metadata": {},
   "outputs": [],
   "source": [
    "df = pd.read_csv(\"CardioGoodFitness.csv\")"
   ]
  },
  {
   "cell_type": "code",
   "execution_count": 3,
   "id": "19a99437",
   "metadata": {},
   "outputs": [
    {
     "data": {
      "text/html": [
       "<div>\n",
       "<style scoped>\n",
       "    .dataframe tbody tr th:only-of-type {\n",
       "        vertical-align: middle;\n",
       "    }\n",
       "\n",
       "    .dataframe tbody tr th {\n",
       "        vertical-align: top;\n",
       "    }\n",
       "\n",
       "    .dataframe thead th {\n",
       "        text-align: right;\n",
       "    }\n",
       "</style>\n",
       "<table border=\"1\" class=\"dataframe\">\n",
       "  <thead>\n",
       "    <tr style=\"text-align: right;\">\n",
       "      <th></th>\n",
       "      <th>Product</th>\n",
       "      <th>Age</th>\n",
       "      <th>Gender</th>\n",
       "      <th>Education</th>\n",
       "      <th>MaritalStatus</th>\n",
       "      <th>Usage</th>\n",
       "      <th>Fitness</th>\n",
       "      <th>Income</th>\n",
       "      <th>Miles</th>\n",
       "    </tr>\n",
       "  </thead>\n",
       "  <tbody>\n",
       "    <tr>\n",
       "      <th>0</th>\n",
       "      <td>TM195</td>\n",
       "      <td>18</td>\n",
       "      <td>Male</td>\n",
       "      <td>14</td>\n",
       "      <td>Single</td>\n",
       "      <td>3</td>\n",
       "      <td>4</td>\n",
       "      <td>29562</td>\n",
       "      <td>112</td>\n",
       "    </tr>\n",
       "    <tr>\n",
       "      <th>1</th>\n",
       "      <td>TM195</td>\n",
       "      <td>19</td>\n",
       "      <td>Male</td>\n",
       "      <td>15</td>\n",
       "      <td>Single</td>\n",
       "      <td>2</td>\n",
       "      <td>3</td>\n",
       "      <td>31836</td>\n",
       "      <td>75</td>\n",
       "    </tr>\n",
       "    <tr>\n",
       "      <th>2</th>\n",
       "      <td>TM195</td>\n",
       "      <td>19</td>\n",
       "      <td>Female</td>\n",
       "      <td>14</td>\n",
       "      <td>Partnered</td>\n",
       "      <td>4</td>\n",
       "      <td>3</td>\n",
       "      <td>30699</td>\n",
       "      <td>66</td>\n",
       "    </tr>\n",
       "    <tr>\n",
       "      <th>3</th>\n",
       "      <td>TM195</td>\n",
       "      <td>19</td>\n",
       "      <td>Male</td>\n",
       "      <td>12</td>\n",
       "      <td>Single</td>\n",
       "      <td>3</td>\n",
       "      <td>3</td>\n",
       "      <td>32973</td>\n",
       "      <td>85</td>\n",
       "    </tr>\n",
       "    <tr>\n",
       "      <th>4</th>\n",
       "      <td>TM195</td>\n",
       "      <td>20</td>\n",
       "      <td>Male</td>\n",
       "      <td>13</td>\n",
       "      <td>Partnered</td>\n",
       "      <td>4</td>\n",
       "      <td>2</td>\n",
       "      <td>35247</td>\n",
       "      <td>47</td>\n",
       "    </tr>\n",
       "  </tbody>\n",
       "</table>\n",
       "</div>"
      ],
      "text/plain": [
       "  Product  Age  Gender  Education MaritalStatus  Usage  Fitness  Income  Miles\n",
       "0   TM195   18    Male         14        Single      3        4   29562    112\n",
       "1   TM195   19    Male         15        Single      2        3   31836     75\n",
       "2   TM195   19  Female         14     Partnered      4        3   30699     66\n",
       "3   TM195   19    Male         12        Single      3        3   32973     85\n",
       "4   TM195   20    Male         13     Partnered      4        2   35247     47"
      ]
     },
     "execution_count": 3,
     "metadata": {},
     "output_type": "execute_result"
    }
   ],
   "source": [
    "df.head()"
   ]
  },
  {
   "cell_type": "code",
   "execution_count": 4,
   "id": "053dc65d",
   "metadata": {},
   "outputs": [
    {
     "name": "stdout",
     "output_type": "stream",
     "text": [
      "<class 'pandas.core.frame.DataFrame'>\n",
      "RangeIndex: 180 entries, 0 to 179\n",
      "Data columns (total 9 columns):\n",
      " #   Column         Non-Null Count  Dtype \n",
      "---  ------         --------------  ----- \n",
      " 0   Product        180 non-null    object\n",
      " 1   Age            180 non-null    int64 \n",
      " 2   Gender         180 non-null    object\n",
      " 3   Education      180 non-null    int64 \n",
      " 4   MaritalStatus  180 non-null    object\n",
      " 5   Usage          180 non-null    int64 \n",
      " 6   Fitness        180 non-null    int64 \n",
      " 7   Income         180 non-null    int64 \n",
      " 8   Miles          180 non-null    int64 \n",
      "dtypes: int64(6), object(3)\n",
      "memory usage: 12.8+ KB\n"
     ]
    }
   ],
   "source": [
    "df.info()"
   ]
  },
  {
   "cell_type": "code",
   "execution_count": 5,
   "id": "2c2bc1ec",
   "metadata": {},
   "outputs": [
    {
     "data": {
      "text/plain": [
       "Product          0.0\n",
       "Age              0.0\n",
       "Gender           0.0\n",
       "Education        0.0\n",
       "MaritalStatus    0.0\n",
       "Usage            0.0\n",
       "Fitness          0.0\n",
       "Income           0.0\n",
       "Miles            0.0\n",
       "dtype: float64"
      ]
     },
     "execution_count": 5,
     "metadata": {},
     "output_type": "execute_result"
    }
   ],
   "source": [
    "df[df.duplicated()].sum()"
   ]
  },
  {
   "cell_type": "markdown",
   "id": "4b31c3fc",
   "metadata": {},
   "source": [
    "*Нулевые значения и повторяющиеся строки отсутствуют*"
   ]
  },
  {
   "cell_type": "code",
   "execution_count": 6,
   "id": "3587dc08",
   "metadata": {},
   "outputs": [
    {
     "data": {
      "text/plain": [
       "TM195    80\n",
       "TM498    60\n",
       "TM798    40\n",
       "Name: Product, dtype: int64"
      ]
     },
     "execution_count": 6,
     "metadata": {},
     "output_type": "execute_result"
    }
   ],
   "source": [
    "df[\"Product\"].value_counts()"
   ]
  },
  {
   "cell_type": "code",
   "execution_count": 7,
   "id": "49fce5bc",
   "metadata": {},
   "outputs": [
    {
     "data": {
      "text/plain": [
       "Male      104\n",
       "Female     76\n",
       "Name: Gender, dtype: int64"
      ]
     },
     "execution_count": 7,
     "metadata": {},
     "output_type": "execute_result"
    }
   ],
   "source": [
    "df[\"Gender\"].value_counts()"
   ]
  },
  {
   "cell_type": "code",
   "execution_count": 8,
   "id": "11ce82da",
   "metadata": {},
   "outputs": [
    {
     "data": {
      "text/plain": [
       "Partnered    107\n",
       "Single        73\n",
       "Name: MaritalStatus, dtype: int64"
      ]
     },
     "execution_count": 8,
     "metadata": {},
     "output_type": "execute_result"
    }
   ],
   "source": [
    "df[\"MaritalStatus\"].value_counts()"
   ]
  },
  {
   "cell_type": "code",
   "execution_count": 9,
   "id": "aa8b72e2",
   "metadata": {},
   "outputs": [
    {
     "data": {
      "text/html": [
       "<div>\n",
       "<style scoped>\n",
       "    .dataframe tbody tr th:only-of-type {\n",
       "        vertical-align: middle;\n",
       "    }\n",
       "\n",
       "    .dataframe tbody tr th {\n",
       "        vertical-align: top;\n",
       "    }\n",
       "\n",
       "    .dataframe thead th {\n",
       "        text-align: right;\n",
       "    }\n",
       "</style>\n",
       "<table border=\"1\" class=\"dataframe\">\n",
       "  <thead>\n",
       "    <tr style=\"text-align: right;\">\n",
       "      <th></th>\n",
       "      <th></th>\n",
       "      <th>count</th>\n",
       "    </tr>\n",
       "    <tr>\n",
       "      <th>Gender</th>\n",
       "      <th>MaritalStatus</th>\n",
       "      <th></th>\n",
       "    </tr>\n",
       "  </thead>\n",
       "  <tbody>\n",
       "    <tr>\n",
       "      <th rowspan=\"2\" valign=\"top\">Female</th>\n",
       "      <th>Partnered</th>\n",
       "      <td>46</td>\n",
       "    </tr>\n",
       "    <tr>\n",
       "      <th>Single</th>\n",
       "      <td>30</td>\n",
       "    </tr>\n",
       "    <tr>\n",
       "      <th rowspan=\"2\" valign=\"top\">Male</th>\n",
       "      <th>Partnered</th>\n",
       "      <td>61</td>\n",
       "    </tr>\n",
       "    <tr>\n",
       "      <th>Single</th>\n",
       "      <td>43</td>\n",
       "    </tr>\n",
       "  </tbody>\n",
       "</table>\n",
       "</div>"
      ],
      "text/plain": [
       "                      count\n",
       "Gender MaritalStatus       \n",
       "Female Partnered         46\n",
       "       Single            30\n",
       "Male   Partnered         61\n",
       "       Single            43"
      ]
     },
     "execution_count": 9,
     "metadata": {},
     "output_type": "execute_result"
    }
   ],
   "source": [
    "df.groupby(['Gender', 'MaritalStatus']).agg(['count'])['Product']"
   ]
  },
  {
   "cell_type": "markdown",
   "id": "0725db86",
   "metadata": {},
   "source": [
    "**Вывод:** Самым популярной моделью является TM195, менее популярной - TM798. Среди клиентов за 3 месяца мужчин больше, чем женщин. В целом, среди покупателей преобладают мужчины, состоящие в отношениях"
   ]
  },
  {
   "cell_type": "markdown",
   "id": "229fee4a",
   "metadata": {},
   "source": [
    "***На первый взгляд, данные в хорошем состоянии. Можно переходить к анализу.***"
   ]
  },
  {
   "cell_type": "code",
   "execution_count": 10,
   "id": "6a2dc9c2",
   "metadata": {},
   "outputs": [],
   "source": [
    "df['Age_group'] = pd.cut(x=df['Age'], bins=5, precision=0)"
   ]
  },
  {
   "cell_type": "code",
   "execution_count": 79,
   "id": "e3468239",
   "metadata": {},
   "outputs": [
    {
     "data": {
      "text/plain": [
       "<AxesSubplot:xlabel='Age_group', ylabel='count'>"
      ]
     },
     "execution_count": 79,
     "metadata": {},
     "output_type": "execute_result"
    },
    {
     "data": {
      "image/png": "[encoded data removed]",
      "text/plain": [
       "<Figure size 576x360 with 1 Axes>"
      ]
     },
     "metadata": {
      "needs_background": "light"
     },
     "output_type": "display_data"
    }
   ],
   "source": [
    "plt.figure(figsize=(8,5))\n",
    "sns.countplot(data=df, x='Age_group', palette='turbo')"
   ]
  },
  {
   "cell_type": "code",
   "execution_count": 12,
   "id": "07750500",
   "metadata": {},
   "outputs": [
    {
     "data": {
      "text/plain": [
       "mean      28.788889\n",
       "median    26.000000\n",
       "min       18.000000\n",
       "max       50.000000\n",
       "Name: Age, dtype: float64"
      ]
     },
     "execution_count": 12,
     "metadata": {},
     "output_type": "execute_result"
    }
   ],
   "source": [
    "df['Age'].agg(['mean', 'median', 'min', 'max'])"
   ]
  },
  {
   "cell_type": "markdown",
   "id": "e75d703f",
   "metadata": {},
   "source": [
    "**Вывод:** продукция наиболее пользуется спросом у клиентов возрастной категории от 18 до 31 года. Медианный возраст покупателей равен 26.\n",
    "Далее с повышением возраста спрос падает. Максимальный возраст покупателя равен 50.\n",
    "\n",
    "Посмотрим, как пол влияет на выбор линейки"
   ]
  },
  {
   "cell_type": "code",
   "execution_count": 13,
   "id": "4a21882b",
   "metadata": {},
   "outputs": [
    {
     "data": {
      "text/html": [
       "<div>\n",
       "<style scoped>\n",
       "    .dataframe tbody tr th:only-of-type {\n",
       "        vertical-align: middle;\n",
       "    }\n",
       "\n",
       "    .dataframe tbody tr th {\n",
       "        vertical-align: top;\n",
       "    }\n",
       "\n",
       "    .dataframe thead th {\n",
       "        text-align: right;\n",
       "    }\n",
       "</style>\n",
       "<table border=\"1\" class=\"dataframe\">\n",
       "  <thead>\n",
       "    <tr style=\"text-align: right;\">\n",
       "      <th></th>\n",
       "      <th></th>\n",
       "      <th>count</th>\n",
       "    </tr>\n",
       "    <tr>\n",
       "      <th>Product</th>\n",
       "      <th>Gender</th>\n",
       "      <th></th>\n",
       "    </tr>\n",
       "  </thead>\n",
       "  <tbody>\n",
       "    <tr>\n",
       "      <th rowspan=\"2\" valign=\"top\">TM195</th>\n",
       "      <th>Female</th>\n",
       "      <td>40</td>\n",
       "    </tr>\n",
       "    <tr>\n",
       "      <th>Male</th>\n",
       "      <td>40</td>\n",
       "    </tr>\n",
       "    <tr>\n",
       "      <th rowspan=\"2\" valign=\"top\">TM498</th>\n",
       "      <th>Female</th>\n",
       "      <td>29</td>\n",
       "    </tr>\n",
       "    <tr>\n",
       "      <th>Male</th>\n",
       "      <td>31</td>\n",
       "    </tr>\n",
       "    <tr>\n",
       "      <th rowspan=\"2\" valign=\"top\">TM798</th>\n",
       "      <th>Female</th>\n",
       "      <td>7</td>\n",
       "    </tr>\n",
       "    <tr>\n",
       "      <th>Male</th>\n",
       "      <td>33</td>\n",
       "    </tr>\n",
       "  </tbody>\n",
       "</table>\n",
       "</div>"
      ],
      "text/plain": [
       "                count\n",
       "Product Gender       \n",
       "TM195   Female     40\n",
       "        Male       40\n",
       "TM498   Female     29\n",
       "        Male       31\n",
       "TM798   Female      7\n",
       "        Male       33"
      ]
     },
     "execution_count": 13,
     "metadata": {},
     "output_type": "execute_result"
    }
   ],
   "source": [
    "df.groupby(['Product', 'Gender']).agg(['count'])['Age']"
   ]
  },
  {
   "cell_type": "code",
   "execution_count": 78,
   "id": "ff89f584",
   "metadata": {},
   "outputs": [
    {
     "data": {
      "text/plain": [
       "<matplotlib.legend.Legend at 0x1c9f378fd90>"
      ]
     },
     "execution_count": 78,
     "metadata": {},
     "output_type": "execute_result"
    },
    {
     "data": {
      "image/png": "[encoded data removed]",
      "text/plain": [
       "<Figure size 576x360 with 1 Axes>"
      ]
     },
     "metadata": {
      "needs_background": "light"
     },
     "output_type": "display_data"
    }
   ],
   "source": [
    "plt.figure(figsize=(8,5))\n",
    "sns.countplot(data=df, x='Product', hue='Gender', palette='turbo')\n",
    "plt.legend(bbox_to_anchor=(1.25, 1), title='Gender')"
   ]
  },
  {
   "cell_type": "markdown",
   "id": "a0ea9a1f",
   "metadata": {},
   "source": [
    "**Вывод:** Среди мужчин пользуются спросом все продукты, тогда как у женщин есть явные предпочтения в сторону моделей TM195, TM498. Модель TM798 женщины покупают редко.\n",
    "\n",
    "Попробуем выяснить почему."
   ]
  },
  {
   "cell_type": "code",
   "execution_count": 15,
   "id": "074ef6af",
   "metadata": {},
   "outputs": [
    {
     "data": {
      "text/html": [
       "<div>\n",
       "<style scoped>\n",
       "    .dataframe tbody tr th:only-of-type {\n",
       "        vertical-align: middle;\n",
       "    }\n",
       "\n",
       "    .dataframe tbody tr th {\n",
       "        vertical-align: top;\n",
       "    }\n",
       "\n",
       "    .dataframe thead tr th {\n",
       "        text-align: left;\n",
       "    }\n",
       "\n",
       "    .dataframe thead tr:last-of-type th {\n",
       "        text-align: right;\n",
       "    }\n",
       "</style>\n",
       "<table border=\"1\" class=\"dataframe\">\n",
       "  <thead>\n",
       "    <tr>\n",
       "      <th></th>\n",
       "      <th colspan=\"2\" halign=\"left\">Usage</th>\n",
       "      <th colspan=\"2\" halign=\"left\">Fitness</th>\n",
       "      <th colspan=\"2\" halign=\"left\">Miles</th>\n",
       "      <th colspan=\"2\" halign=\"left\">Income</th>\n",
       "    </tr>\n",
       "    <tr>\n",
       "      <th></th>\n",
       "      <th>mean</th>\n",
       "      <th>median</th>\n",
       "      <th>mean</th>\n",
       "      <th>median</th>\n",
       "      <th>mean</th>\n",
       "      <th>median</th>\n",
       "      <th>mean</th>\n",
       "      <th>median</th>\n",
       "    </tr>\n",
       "    <tr>\n",
       "      <th>Gender</th>\n",
       "      <th></th>\n",
       "      <th></th>\n",
       "      <th></th>\n",
       "      <th></th>\n",
       "      <th></th>\n",
       "      <th></th>\n",
       "      <th></th>\n",
       "      <th></th>\n",
       "    </tr>\n",
       "  </thead>\n",
       "  <tbody>\n",
       "    <tr>\n",
       "      <th>Female</th>\n",
       "      <td>3.184211</td>\n",
       "      <td>3</td>\n",
       "      <td>3.026316</td>\n",
       "      <td>3</td>\n",
       "      <td>90.013158</td>\n",
       "      <td>85</td>\n",
       "      <td>49828.907895</td>\n",
       "      <td>47754</td>\n",
       "    </tr>\n",
       "    <tr>\n",
       "      <th>Male</th>\n",
       "      <td>3.653846</td>\n",
       "      <td>4</td>\n",
       "      <td>3.519231</td>\n",
       "      <td>3</td>\n",
       "      <td>112.826923</td>\n",
       "      <td>100</td>\n",
       "      <td>56562.759615</td>\n",
       "      <td>52302</td>\n",
       "    </tr>\n",
       "  </tbody>\n",
       "</table>\n",
       "</div>"
      ],
      "text/plain": [
       "           Usage          Fitness              Miles               Income  \\\n",
       "            mean median      mean median        mean median          mean   \n",
       "Gender                                                                      \n",
       "Female  3.184211      3  3.026316      3   90.013158     85  49828.907895   \n",
       "Male    3.653846      4  3.519231      3  112.826923    100  56562.759615   \n",
       "\n",
       "               \n",
       "       median  \n",
       "Gender         \n",
       "Female  47754  \n",
       "Male    52302  "
      ]
     },
     "execution_count": 15,
     "metadata": {},
     "output_type": "execute_result"
    }
   ],
   "source": [
    "df.groupby('Gender')[['Usage', 'Fitness', 'Miles', 'Income']].agg(['mean', 'median'])"
   ]
  },
  {
   "cell_type": "markdown",
   "id": "a9d063b9",
   "metadata": {},
   "source": [
    "**Вывод:** Женщины менее замотивированы и уверенны в своих успехах, чем мужчины. Кроме того, доходы женщин ниже, чем у мужчин. \n",
    "\n",
    "Может модель TM798 дороже остальных или относится к более профессиональному классу? "
   ]
  },
  {
   "cell_type": "code",
   "execution_count": 16,
   "id": "af9f2fb9",
   "metadata": {},
   "outputs": [
    {
     "data": {
      "text/html": [
       "<div>\n",
       "<style scoped>\n",
       "    .dataframe tbody tr th:only-of-type {\n",
       "        vertical-align: middle;\n",
       "    }\n",
       "\n",
       "    .dataframe tbody tr th {\n",
       "        vertical-align: top;\n",
       "    }\n",
       "\n",
       "    .dataframe thead th {\n",
       "        text-align: right;\n",
       "    }\n",
       "</style>\n",
       "<table border=\"1\" class=\"dataframe\">\n",
       "  <thead>\n",
       "    <tr style=\"text-align: right;\">\n",
       "      <th></th>\n",
       "      <th>count</th>\n",
       "      <th>mean</th>\n",
       "      <th>median</th>\n",
       "    </tr>\n",
       "    <tr>\n",
       "      <th>Product</th>\n",
       "      <th></th>\n",
       "      <th></th>\n",
       "      <th></th>\n",
       "    </tr>\n",
       "  </thead>\n",
       "  <tbody>\n",
       "    <tr>\n",
       "      <th>TM195</th>\n",
       "      <td>80</td>\n",
       "      <td>46418.025</td>\n",
       "      <td>46617.0</td>\n",
       "    </tr>\n",
       "    <tr>\n",
       "      <th>TM498</th>\n",
       "      <td>60</td>\n",
       "      <td>48973.650</td>\n",
       "      <td>49459.5</td>\n",
       "    </tr>\n",
       "    <tr>\n",
       "      <th>TM798</th>\n",
       "      <td>40</td>\n",
       "      <td>75441.575</td>\n",
       "      <td>76568.5</td>\n",
       "    </tr>\n",
       "  </tbody>\n",
       "</table>\n",
       "</div>"
      ],
      "text/plain": [
       "         count       mean   median\n",
       "Product                           \n",
       "TM195       80  46418.025  46617.0\n",
       "TM498       60  48973.650  49459.5\n",
       "TM798       40  75441.575  76568.5"
      ]
     },
     "execution_count": 16,
     "metadata": {},
     "output_type": "execute_result"
    }
   ],
   "source": [
    "df.groupby('Product')['Income'].agg(['count', 'mean', 'median'])"
   ]
  },
  {
   "cell_type": "code",
   "execution_count": 77,
   "id": "18886578",
   "metadata": {},
   "outputs": [
    {
     "data": {
      "text/plain": [
       "<AxesSubplot:xlabel='Product', ylabel='Income'>"
      ]
     },
     "execution_count": 77,
     "metadata": {},
     "output_type": "execute_result"
    },
    {
     "data": {
      "image/png": "[encoded data removed]",
      "text/plain": [
       "<Figure size 576x360 with 1 Axes>"
      ]
     },
     "metadata": {
      "needs_background": "light"
     },
     "output_type": "display_data"
    }
   ],
   "source": [
    "plt.figure(figsize=(8,5))\n",
    "sns.boxplot(data=df, x='Product', y='Income', palette='turbo')"
   ]
  },
  {
   "cell_type": "code",
   "execution_count": 76,
   "id": "2cfc8f46",
   "metadata": {},
   "outputs": [
    {
     "data": {
      "text/plain": [
       "<AxesSubplot:xlabel='Product', ylabel='Miles'>"
      ]
     },
     "execution_count": 76,
     "metadata": {},
     "output_type": "execute_result"
    },
    {
     "data": {
      "image/png": "[encoded data removed]",
      "text/plain": [
       "<Figure size 576x360 with 1 Axes>"
      ]
     },
     "metadata": {
      "needs_background": "light"
     },
     "output_type": "display_data"
    }
   ],
   "source": [
    "plt.figure(figsize=(8,5))\n",
    "sns.boxplot(data=df, x='Product', y='Miles', palette='turbo')"
   ]
  },
  {
   "cell_type": "code",
   "execution_count": 75,
   "id": "3d52474a",
   "metadata": {},
   "outputs": [
    {
     "data": {
      "text/plain": [
       "<matplotlib.legend.Legend at 0x1c9f364ebb0>"
      ]
     },
     "execution_count": 75,
     "metadata": {},
     "output_type": "execute_result"
    },
    {
     "data": {
      "image/png": "[encoded data removed]",
      "text/plain": [
       "<Figure size 576x360 with 1 Axes>"
      ]
     },
     "metadata": {
      "needs_background": "light"
     },
     "output_type": "display_data"
    }
   ],
   "source": [
    "plt.figure(figsize=(8,5))\n",
    "sns.countplot(data=df, x='Fitness', hue='Product', palette='turbo')\n",
    "plt.legend(bbox_to_anchor=(1, 1), title='Product')"
   ]
  },
  {
   "cell_type": "code",
   "execution_count": 74,
   "id": "0c00771b",
   "metadata": {},
   "outputs": [
    {
     "data": {
      "text/plain": [
       "<matplotlib.legend.Legend at 0x1c9f25e3fd0>"
      ]
     },
     "execution_count": 74,
     "metadata": {},
     "output_type": "execute_result"
    },
    {
     "data": {
      "image/png": "[encoded data removed]",
      "text/plain": [
       "<Figure size 576x360 with 1 Axes>"
      ]
     },
     "metadata": {
      "needs_background": "light"
     },
     "output_type": "display_data"
    }
   ],
   "source": [
    "plt.figure(figsize=(8,5))\n",
    "sns.countplot(data=df, x='Usage', hue='Product', palette='turbo')\n",
    "plt.legend(bbox_to_anchor=(1, 1), title='Product')"
   ]
  },
  {
   "cell_type": "markdown",
   "id": "d98c2bdf",
   "metadata": {},
   "source": [
    "**Вывод:** Можно смело сказать, что продукт TM798 находится в более высокой ценовой категории и ориентирован на более опытных спортсменов. TM798 приобретается людьми, которые планируют пользоваться дорожкой 4 и более раз в неделю. Кроме того, большинство пользователей TM798 оценивают свою физическую форму на 5."
   ]
  },
  {
   "cell_type": "markdown",
   "id": "c369afa0",
   "metadata": {},
   "source": [
    "Проверим, влияет ли семейное положение клиента на его выбор."
   ]
  },
  {
   "cell_type": "code",
   "execution_count": 73,
   "id": "525fb28d",
   "metadata": {},
   "outputs": [
    {
     "data": {
      "text/plain": [
       "<matplotlib.legend.Legend at 0x1c9f257eeb0>"
      ]
     },
     "execution_count": 73,
     "metadata": {},
     "output_type": "execute_result"
    },
    {
     "data": {
      "image/png": "[encoded data removed]",
      "text/plain": [
       "<Figure size 576x360 with 1 Axes>"
      ]
     },
     "metadata": {
      "needs_background": "light"
     },
     "output_type": "display_data"
    }
   ],
   "source": [
    "plt.figure(figsize=(8,5))\n",
    "sns.countplot(data=df, x='Product', hue='MaritalStatus', palette='turbo')\n",
    "plt.legend(bbox_to_anchor=(1.21, 1), title='Marital Status')"
   ]
  },
  {
   "cell_type": "markdown",
   "id": "6bb1a67a",
   "metadata": {},
   "source": [
    "**Вывод:** Семейное положение само по себе явно не влияет на выбор клиента\n",
    "\n",
    "Проверим влияние возраста"
   ]
  },
  {
   "cell_type": "code",
   "execution_count": 22,
   "id": "c36af230",
   "metadata": {},
   "outputs": [
    {
     "data": {
      "text/html": [
       "<div>\n",
       "<style scoped>\n",
       "    .dataframe tbody tr th:only-of-type {\n",
       "        vertical-align: middle;\n",
       "    }\n",
       "\n",
       "    .dataframe tbody tr th {\n",
       "        vertical-align: top;\n",
       "    }\n",
       "\n",
       "    .dataframe thead th {\n",
       "        text-align: right;\n",
       "    }\n",
       "</style>\n",
       "<table border=\"1\" class=\"dataframe\">\n",
       "  <thead>\n",
       "    <tr style=\"text-align: right;\">\n",
       "      <th></th>\n",
       "      <th>count</th>\n",
       "      <th>mean</th>\n",
       "      <th>median</th>\n",
       "    </tr>\n",
       "    <tr>\n",
       "      <th>Product</th>\n",
       "      <th></th>\n",
       "      <th></th>\n",
       "      <th></th>\n",
       "    </tr>\n",
       "  </thead>\n",
       "  <tbody>\n",
       "    <tr>\n",
       "      <th>TM195</th>\n",
       "      <td>80</td>\n",
       "      <td>28.55</td>\n",
       "      <td>26</td>\n",
       "    </tr>\n",
       "    <tr>\n",
       "      <th>TM498</th>\n",
       "      <td>60</td>\n",
       "      <td>28.90</td>\n",
       "      <td>26</td>\n",
       "    </tr>\n",
       "    <tr>\n",
       "      <th>TM798</th>\n",
       "      <td>40</td>\n",
       "      <td>29.10</td>\n",
       "      <td>27</td>\n",
       "    </tr>\n",
       "  </tbody>\n",
       "</table>\n",
       "</div>"
      ],
      "text/plain": [
       "         count   mean  median\n",
       "Product                      \n",
       "TM195       80  28.55      26\n",
       "TM498       60  28.90      26\n",
       "TM798       40  29.10      27"
      ]
     },
     "execution_count": 22,
     "metadata": {},
     "output_type": "execute_result"
    }
   ],
   "source": [
    "df.groupby(['Product']).agg(['count', 'mean', 'median'])['Age']"
   ]
  },
  {
   "cell_type": "code",
   "execution_count": 72,
   "id": "427950b2",
   "metadata": {},
   "outputs": [
    {
     "data": {
      "text/plain": [
       "<matplotlib.legend.Legend at 0x1c9f23e4940>"
      ]
     },
     "execution_count": 72,
     "metadata": {},
     "output_type": "execute_result"
    },
    {
     "data": {
      "image/png": "[encoded data removed]",
      "text/plain": [
       "<Figure size 576x360 with 1 Axes>"
      ]
     },
     "metadata": {
      "needs_background": "light"
     },
     "output_type": "display_data"
    }
   ],
   "source": [
    "plt.figure(figsize=(8,5))\n",
    "sns.countplot(data=df, x='Product', hue='Age_group', palette='turbo')\n",
    "plt.legend(bbox_to_anchor=(1, 1), title='Age group')"
   ]
  },
  {
   "cell_type": "markdown",
   "id": "fc085c6a",
   "metadata": {},
   "source": [
    "**Вывод:** Сам по себе возраст незначительно влияет на выбор продукции, однако в разных возрастных категориях выбор продукта немного отличается. Если  количество покупателей продуктов TM195 и TM498 в категориях 18-24 и 24-31 почти одинаково, то количество покупателей TM798 в этих группах сильно отличается.\n",
    "\n",
    "Выясним почему. Возможно, в категории 24-31 более мотивированные и опытные спортсмены, поэтому они чаще выбирают более дорогую линейку? Или же у них просто больше доход?"
   ]
  },
  {
   "cell_type": "code",
   "execution_count": 24,
   "id": "4f8f727b",
   "metadata": {},
   "outputs": [
    {
     "data": {
      "text/html": [
       "<div>\n",
       "<style scoped>\n",
       "    .dataframe tbody tr th:only-of-type {\n",
       "        vertical-align: middle;\n",
       "    }\n",
       "\n",
       "    .dataframe tbody tr th {\n",
       "        vertical-align: top;\n",
       "    }\n",
       "\n",
       "    .dataframe thead tr th {\n",
       "        text-align: left;\n",
       "    }\n",
       "\n",
       "    .dataframe thead tr:last-of-type th {\n",
       "        text-align: right;\n",
       "    }\n",
       "</style>\n",
       "<table border=\"1\" class=\"dataframe\">\n",
       "  <thead>\n",
       "    <tr>\n",
       "      <th></th>\n",
       "      <th colspan=\"2\" halign=\"left\">Miles</th>\n",
       "      <th colspan=\"2\" halign=\"left\">Usage</th>\n",
       "      <th colspan=\"2\" halign=\"left\">Fitness</th>\n",
       "      <th colspan=\"2\" halign=\"left\">Income</th>\n",
       "    </tr>\n",
       "    <tr>\n",
       "      <th></th>\n",
       "      <th>mean</th>\n",
       "      <th>median</th>\n",
       "      <th>mean</th>\n",
       "      <th>median</th>\n",
       "      <th>mean</th>\n",
       "      <th>median</th>\n",
       "      <th>mean</th>\n",
       "      <th>median</th>\n",
       "    </tr>\n",
       "    <tr>\n",
       "      <th>Age_group</th>\n",
       "      <th></th>\n",
       "      <th></th>\n",
       "      <th></th>\n",
       "      <th></th>\n",
       "      <th></th>\n",
       "      <th></th>\n",
       "      <th></th>\n",
       "      <th></th>\n",
       "    </tr>\n",
       "  </thead>\n",
       "  <tbody>\n",
       "    <tr>\n",
       "      <th>(18.0, 24.0]</th>\n",
       "      <td>95.425926</td>\n",
       "      <td>89.5</td>\n",
       "      <td>3.370370</td>\n",
       "      <td>3</td>\n",
       "      <td>3.222222</td>\n",
       "      <td>3</td>\n",
       "      <td>40947.851852</td>\n",
       "      <td>38658</td>\n",
       "    </tr>\n",
       "    <tr>\n",
       "      <th>(24.0, 31.0]</th>\n",
       "      <td>111.212121</td>\n",
       "      <td>100.0</td>\n",
       "      <td>3.651515</td>\n",
       "      <td>4</td>\n",
       "      <td>3.424242</td>\n",
       "      <td>3</td>\n",
       "      <td>57159.924242</td>\n",
       "      <td>51165</td>\n",
       "    </tr>\n",
       "    <tr>\n",
       "      <th>(31.0, 37.0]</th>\n",
       "      <td>102.828571</td>\n",
       "      <td>85.0</td>\n",
       "      <td>3.228571</td>\n",
       "      <td>3</td>\n",
       "      <td>3.142857</td>\n",
       "      <td>3</td>\n",
       "      <td>57713.342857</td>\n",
       "      <td>53439</td>\n",
       "    </tr>\n",
       "    <tr>\n",
       "      <th>(37.0, 44.0]</th>\n",
       "      <td>102.187500</td>\n",
       "      <td>85.0</td>\n",
       "      <td>3.500000</td>\n",
       "      <td>3</td>\n",
       "      <td>3.375000</td>\n",
       "      <td>3</td>\n",
       "      <td>63898.312500</td>\n",
       "      <td>59124</td>\n",
       "    </tr>\n",
       "    <tr>\n",
       "      <th>(44.0, 50.0]</th>\n",
       "      <td>94.222222</td>\n",
       "      <td>75.0</td>\n",
       "      <td>3.333333</td>\n",
       "      <td>3</td>\n",
       "      <td>3.555556</td>\n",
       "      <td>3</td>\n",
       "      <td>71493.888889</td>\n",
       "      <td>60261</td>\n",
       "    </tr>\n",
       "  </tbody>\n",
       "</table>\n",
       "</div>"
      ],
      "text/plain": [
       "                   Miles            Usage          Fitness         \\\n",
       "                    mean median      mean median      mean median   \n",
       "Age_group                                                           \n",
       "(18.0, 24.0]   95.425926   89.5  3.370370      3  3.222222      3   \n",
       "(24.0, 31.0]  111.212121  100.0  3.651515      4  3.424242      3   \n",
       "(31.0, 37.0]  102.828571   85.0  3.228571      3  3.142857      3   \n",
       "(37.0, 44.0]  102.187500   85.0  3.500000      3  3.375000      3   \n",
       "(44.0, 50.0]   94.222222   75.0  3.333333      3  3.555556      3   \n",
       "\n",
       "                    Income         \n",
       "                      mean median  \n",
       "Age_group                          \n",
       "(18.0, 24.0]  40947.851852  38658  \n",
       "(24.0, 31.0]  57159.924242  51165  \n",
       "(31.0, 37.0]  57713.342857  53439  \n",
       "(37.0, 44.0]  63898.312500  59124  \n",
       "(44.0, 50.0]  71493.888889  60261  "
      ]
     },
     "execution_count": 24,
     "metadata": {},
     "output_type": "execute_result"
    }
   ],
   "source": [
    "df.groupby('Age_group')[['Miles', 'Usage', 'Fitness', 'Income']].agg(['mean', 'median'])"
   ]
  },
  {
   "cell_type": "code",
   "execution_count": 80,
   "id": "340a7667",
   "metadata": {},
   "outputs": [
    {
     "data": {
      "text/plain": [
       "<matplotlib.legend.Legend at 0x1c9f3855f10>"
      ]
     },
     "execution_count": 80,
     "metadata": {},
     "output_type": "execute_result"
    },
    {
     "data": {
      "image/png": "[encoded data removed]",
      "text/plain": [
       "<Figure size 576x360 with 1 Axes>"
      ]
     },
     "metadata": {
      "needs_background": "light"
     },
     "output_type": "display_data"
    }
   ],
   "source": [
    "plt.figure(figsize=(8,5))\n",
    "sns.scatterplot(data=df, x='Age', y='Income', hue='Product', s=60, palette='turbo')\n",
    "plt.ylim(0)\n",
    "plt.legend(bbox_to_anchor=(1, 1), title='Product')"
   ]
  },
  {
   "cell_type": "markdown",
   "id": "5fbba98f",
   "metadata": {},
   "source": [
    "**Вывод:** Причиной того, что основными покупателями линейки TM798 (самой дорогой) являются люди (в основном, мужчины) из возрастной категории 24-31, являются бОльшая мотивированность и опытность в спорте. В категории 18-24 эта линейка не пользуется высоким спросом из-за низкого среднего дохода по сравнению с остальными категориями. Между моделями TM498 и TM798 явных различий по информации о покупателях не выявлено.\n",
    "\n",
    "До этого момента между моделями TM498 и TM798 явных различий по информации о покупателях не выявлено. Рассмотрим различие моделей поподробнее.\n"
   ]
  },
  {
   "cell_type": "code",
   "execution_count": 26,
   "id": "90aa5be0",
   "metadata": {},
   "outputs": [
    {
     "data": {
      "text/html": [
       "<div>\n",
       "<style scoped>\n",
       "    .dataframe tbody tr th:only-of-type {\n",
       "        vertical-align: middle;\n",
       "    }\n",
       "\n",
       "    .dataframe tbody tr th {\n",
       "        vertical-align: top;\n",
       "    }\n",
       "\n",
       "    .dataframe thead tr th {\n",
       "        text-align: left;\n",
       "    }\n",
       "\n",
       "    .dataframe thead tr:last-of-type th {\n",
       "        text-align: right;\n",
       "    }\n",
       "</style>\n",
       "<table border=\"1\" class=\"dataframe\">\n",
       "  <thead>\n",
       "    <tr>\n",
       "      <th></th>\n",
       "      <th colspan=\"2\" halign=\"left\">Age</th>\n",
       "      <th colspan=\"2\" halign=\"left\">Education</th>\n",
       "      <th colspan=\"2\" halign=\"left\">Usage</th>\n",
       "      <th colspan=\"2\" halign=\"left\">Fitness</th>\n",
       "      <th colspan=\"2\" halign=\"left\">Income</th>\n",
       "      <th colspan=\"2\" halign=\"left\">Miles</th>\n",
       "    </tr>\n",
       "    <tr>\n",
       "      <th></th>\n",
       "      <th>mean</th>\n",
       "      <th>median</th>\n",
       "      <th>mean</th>\n",
       "      <th>median</th>\n",
       "      <th>mean</th>\n",
       "      <th>median</th>\n",
       "      <th>mean</th>\n",
       "      <th>median</th>\n",
       "      <th>mean</th>\n",
       "      <th>median</th>\n",
       "      <th>mean</th>\n",
       "      <th>median</th>\n",
       "    </tr>\n",
       "    <tr>\n",
       "      <th>Product</th>\n",
       "      <th></th>\n",
       "      <th></th>\n",
       "      <th></th>\n",
       "      <th></th>\n",
       "      <th></th>\n",
       "      <th></th>\n",
       "      <th></th>\n",
       "      <th></th>\n",
       "      <th></th>\n",
       "      <th></th>\n",
       "      <th></th>\n",
       "      <th></th>\n",
       "    </tr>\n",
       "  </thead>\n",
       "  <tbody>\n",
       "    <tr>\n",
       "      <th>TM195</th>\n",
       "      <td>28.55</td>\n",
       "      <td>26</td>\n",
       "      <td>15.037500</td>\n",
       "      <td>16</td>\n",
       "      <td>3.087500</td>\n",
       "      <td>3</td>\n",
       "      <td>2.9625</td>\n",
       "      <td>3</td>\n",
       "      <td>46418.025</td>\n",
       "      <td>46617.0</td>\n",
       "      <td>82.787500</td>\n",
       "      <td>85</td>\n",
       "    </tr>\n",
       "    <tr>\n",
       "      <th>TM498</th>\n",
       "      <td>28.90</td>\n",
       "      <td>26</td>\n",
       "      <td>15.116667</td>\n",
       "      <td>16</td>\n",
       "      <td>3.066667</td>\n",
       "      <td>3</td>\n",
       "      <td>2.9000</td>\n",
       "      <td>3</td>\n",
       "      <td>48973.650</td>\n",
       "      <td>49459.5</td>\n",
       "      <td>87.933333</td>\n",
       "      <td>85</td>\n",
       "    </tr>\n",
       "    <tr>\n",
       "      <th>TM798</th>\n",
       "      <td>29.10</td>\n",
       "      <td>27</td>\n",
       "      <td>17.325000</td>\n",
       "      <td>18</td>\n",
       "      <td>4.775000</td>\n",
       "      <td>5</td>\n",
       "      <td>4.6250</td>\n",
       "      <td>5</td>\n",
       "      <td>75441.575</td>\n",
       "      <td>76568.5</td>\n",
       "      <td>166.900000</td>\n",
       "      <td>160</td>\n",
       "    </tr>\n",
       "  </tbody>\n",
       "</table>\n",
       "</div>"
      ],
      "text/plain": [
       "           Age         Education            Usage        Fitness         \\\n",
       "          mean median       mean median      mean median    mean median   \n",
       "Product                                                                   \n",
       "TM195    28.55     26  15.037500     16  3.087500      3  2.9625      3   \n",
       "TM498    28.90     26  15.116667     16  3.066667      3  2.9000      3   \n",
       "TM798    29.10     27  17.325000     18  4.775000      5  4.6250      5   \n",
       "\n",
       "            Income                Miles         \n",
       "              mean   median        mean median  \n",
       "Product                                         \n",
       "TM195    46418.025  46617.0   82.787500     85  \n",
       "TM498    48973.650  49459.5   87.933333     85  \n",
       "TM798    75441.575  76568.5  166.900000    160  "
      ]
     },
     "execution_count": 26,
     "metadata": {},
     "output_type": "execute_result"
    }
   ],
   "source": [
    "df.groupby('Product').agg(['mean', 'median'])"
   ]
  },
  {
   "cell_type": "markdown",
   "id": "27c08bc8",
   "metadata": {},
   "source": [
    "**Вывод:** Средний заработок и ожидаемое количество пройденных миль покупателей TM498 незначительно выше, чем у покупателей TM195. Значительных отличий между покупателями моделей TM195, TM498 нет. Их покупатели в среднем оценивают свою формун на 3 и собираются пользоваться дорожкой 3 раза в неделю. Пользователи более дорогой модели TM798 планируют проходить растоянии почти в 2 раза большее, чем пользователи TM195, TM498. Кроме того, доходы и уровни образования пользователей TM798 значительно выше, чем у покупателей других моделей."
   ]
  },
  {
   "cell_type": "markdown",
   "id": "427646af",
   "metadata": {},
   "source": [
    "Интересно посмотреть, как семейное положение влияет на мотивированность в спорте"
   ]
  },
  {
   "cell_type": "code",
   "execution_count": 81,
   "id": "c6e6c464",
   "metadata": {
    "scrolled": true
   },
   "outputs": [
    {
     "data": {
      "text/plain": [
       "<matplotlib.legend.Legend at 0x1c9f385f5b0>"
      ]
     },
     "execution_count": 81,
     "metadata": {},
     "output_type": "execute_result"
    },
    {
     "data": {
      "image/png": "[encoded data removed]",
      "text/plain": [
       "<Figure size 576x360 with 1 Axes>"
      ]
     },
     "metadata": {
      "needs_background": "light"
     },
     "output_type": "display_data"
    }
   ],
   "source": [
    "plt.figure(figsize=(8,5))\n",
    "sns.boxplot(data=df, y='Miles', x='Gender', hue='MaritalStatus', palette='turbo')\n",
    "plt.legend(bbox_to_anchor=(1.25, 1), title='Marital Status')"
   ]
  },
  {
   "cell_type": "code",
   "execution_count": 28,
   "id": "0e9f244c",
   "metadata": {},
   "outputs": [
    {
     "data": {
      "text/html": [
       "<div>\n",
       "<style scoped>\n",
       "    .dataframe tbody tr th:only-of-type {\n",
       "        vertical-align: middle;\n",
       "    }\n",
       "\n",
       "    .dataframe tbody tr th {\n",
       "        vertical-align: top;\n",
       "    }\n",
       "\n",
       "    .dataframe thead th {\n",
       "        text-align: right;\n",
       "    }\n",
       "</style>\n",
       "<table border=\"1\" class=\"dataframe\">\n",
       "  <thead>\n",
       "    <tr style=\"text-align: right;\">\n",
       "      <th></th>\n",
       "      <th></th>\n",
       "      <th>mean</th>\n",
       "      <th>median</th>\n",
       "    </tr>\n",
       "    <tr>\n",
       "      <th>Gender</th>\n",
       "      <th>MaritalStatus</th>\n",
       "      <th></th>\n",
       "      <th></th>\n",
       "    </tr>\n",
       "  </thead>\n",
       "  <tbody>\n",
       "    <tr>\n",
       "      <th rowspan=\"2\" valign=\"top\">Female</th>\n",
       "      <th>Partnered</th>\n",
       "      <td>93.326087</td>\n",
       "      <td>85</td>\n",
       "    </tr>\n",
       "    <tr>\n",
       "      <th>Single</th>\n",
       "      <td>84.933333</td>\n",
       "      <td>80</td>\n",
       "    </tr>\n",
       "    <tr>\n",
       "      <th rowspan=\"2\" valign=\"top\">Male</th>\n",
       "      <th>Partnered</th>\n",
       "      <td>112.557377</td>\n",
       "      <td>95</td>\n",
       "    </tr>\n",
       "    <tr>\n",
       "      <th>Single</th>\n",
       "      <td>113.209302</td>\n",
       "      <td>106</td>\n",
       "    </tr>\n",
       "  </tbody>\n",
       "</table>\n",
       "</div>"
      ],
      "text/plain": [
       "                            mean  median\n",
       "Gender MaritalStatus                    \n",
       "Female Partnered       93.326087      85\n",
       "       Single          84.933333      80\n",
       "Male   Partnered      112.557377      95\n",
       "       Single         113.209302     106"
      ]
     },
     "execution_count": 28,
     "metadata": {},
     "output_type": "execute_result"
    }
   ],
   "source": [
    "df.groupby(['Gender', 'MaritalStatus'])['Miles'].agg(['mean', 'median'])"
   ]
  },
  {
   "cell_type": "markdown",
   "id": "9956bedb",
   "metadata": {},
   "source": [
    "**Вывод:** Интересно получилось, что самым высоким показателем мотивированности обладают одинокие мужчины, тогда как наличие партнера ее уменьшает. У женщин же, наоборот, наличие партнера еще больше мотивирует заниматься спортом. При этом спортсмены, обладающие наибольшей мотивированностью по всей выборке, состоят в отношениях."
   ]
  },
  {
   "cell_type": "markdown",
   "id": "31997c24",
   "metadata": {},
   "source": [
    "Как взаимосвязаны между собой возраст, образование и доход?"
   ]
  },
  {
   "cell_type": "code",
   "execution_count": 84,
   "id": "3f2d4e90",
   "metadata": {},
   "outputs": [
    {
     "data": {
      "text/plain": [
       "<AxesSubplot:>"
      ]
     },
     "execution_count": 84,
     "metadata": {},
     "output_type": "execute_result"
    },
    {
     "data": {
      "image/png": "[encoded data removed]",
      "text/plain": [
       "<Figure size 576x360 with 2 Axes>"
      ]
     },
     "metadata": {
      "needs_background": "light"
     },
     "output_type": "display_data"
    }
   ],
   "source": [
    "plt.figure(figsize=(8,5))\n",
    "sns.heatmap(df[['Age', 'Income', 'Education']].corr(), annot=True)"
   ]
  },
  {
   "cell_type": "code",
   "execution_count": 88,
   "id": "42aa54d4",
   "metadata": {},
   "outputs": [
    {
     "data": {
      "text/plain": [
       "(0.0, 51.6)"
      ]
     },
     "execution_count": 88,
     "metadata": {},
     "output_type": "execute_result"
    },
    {
     "data": {
      "image/png": "[encoded data removed]",
      "text/plain": [
       "<Figure size 576x360 with 1 Axes>"
      ]
     },
     "metadata": {
      "needs_background": "light"
     },
     "output_type": "display_data"
    }
   ],
   "source": [
    "plt.figure(figsize=(8,5))\n",
    "sns.scatterplot(x='Age', y='Education', data=df, s=50, hue='Income')\n",
    "plt.ylim(0)\n",
    "plt.xlim(0)"
   ]
  },
  {
   "cell_type": "markdown",
   "id": "508b736a",
   "metadata": {},
   "source": [
    "**Вывод:** Установлена умеренная положительная линейная связь между возрастом и доходом и между образованием и доходом, что ожидаемо. Между возрастом и образованием слабая положительная линейная связь."
   ]
  },
  {
   "cell_type": "markdown",
   "id": "239d2a67",
   "metadata": {},
   "source": [
    "Есть ли связь между успехами в спорте и доходом, образованием?"
   ]
  },
  {
   "cell_type": "code",
   "execution_count": 42,
   "id": "19a6d9b4",
   "metadata": {},
   "outputs": [
    {
     "data": {
      "text/plain": [
       "<AxesSubplot:>"
      ]
     },
     "execution_count": 42,
     "metadata": {},
     "output_type": "execute_result"
    },
    {
     "data": {
      "image/png": "[encoded data removed]",
      "text/plain": [
       "<Figure size 576x360 with 2 Axes>"
      ]
     },
     "metadata": {
      "needs_background": "light"
     },
     "output_type": "display_data"
    }
   ],
   "source": [
    "plt.figure(figsize=(8,5))\n",
    "sns.heatmap(df[['Miles', 'Fitness', 'Age', 'Income', 'Education']].corr(), annot=True)"
   ]
  },
  {
   "cell_type": "code",
   "execution_count": 87,
   "id": "8e10495b",
   "metadata": {},
   "outputs": [
    {
     "data": {
      "text/plain": [
       "<AxesSubplot:xlabel='Age', ylabel='Miles'>"
      ]
     },
     "execution_count": 87,
     "metadata": {},
     "output_type": "execute_result"
    },
    {
     "data": {
      "image/png": "[encoded data removed]",
      "text/plain": [
       "<Figure size 576x360 with 1 Axes>"
      ]
     },
     "metadata": {
      "needs_background": "light"
     },
     "output_type": "display_data"
    }
   ],
   "source": [
    "plt.figure(figsize=(8,5))\n",
    "sns.scatterplot(data=df, x='Age', y='Miles', hue='Fitness')"
   ]
  },
  {
   "cell_type": "markdown",
   "id": "6785bfb8",
   "metadata": {},
   "source": [
    "**Вывод:** Между успехами в спорте и доходами установлена прямая положительная линейная связь. Клиенты с более продолжительнмым образованием в среднем лучше оценивают свою физическую форму. При этом мотивированность и успехи в спорте не зависят от возраста покупателей."
   ]
  },
  {
   "cell_type": "markdown",
   "id": "296d024d",
   "metadata": {},
   "source": [
    "________"
   ]
  },
  {
   "cell_type": "markdown",
   "id": "75038553",
   "metadata": {},
   "source": [
    "**ВЫВОДЫ**\n",
    "* Самой популярной за последние 3 месяца является модель беговых дорожек TM195, а менее популярной - TM798, которая относится к более профессиональному и дорогому классу тренажеров.\n",
    "* Среди покупателей преобладают мужчины, состоящие в отношениях.\n",
    "* Среди покупателей преобладает возрастная категория от 18 до 31 года. Далее с повышением возраста величина спроса падает и равняется нулю среди покупателей старше 50 лет.\n",
    "* Модели TM195, TM498 приобретаются и мужчинами, и женщинами почти одинаково. При этом явных различий в мотивированности, профессиональности в спорте покупателей этих моделей не выявлено. Их приобретают люди, в среднем оценивающие свою физическую форму на 3 и собирающиеся тренироваться в среднем 3 раза в неделю.\n",
    "* Модель TM798 приобретается высоко замотивированными и более опытными людьми, которые в основном оценивают свою физическую форму на 5 и собираются тренироваться в среднем 5 раз в неделю. Наиболее популярна эта модель среди мужчин возрастной категории 24-31. Женщины же редко выбирают эту модель.\n",
    "* Женщины менее замотивированы и уверены в своих успехах в спорте, поэтому они в основном выбирают более простые и дешевые модели TM195, TM498. Кроме того, доходы женщин в среднем ниже доходов мужчин по данной выборке.\n",
    "* Доходы и уровни образования пользователей дорогой модели TM798 значительно выше, чем у покупателей других моделей. При это\n",
    "* У мужчин наличие партнера понижает мотивированность в спорте, а у женщин, наоборот, повышает.\n",
    "* На доход клиентов умеренно прямо влияет их возраст и образование, при этом между возрастом и образованием слабая связь.\n",
    "* Успехи в спорте не зависят от возраста покупателей дорожек. При этом клиенты с более продолжительным образованием и высокими доходами в среднем оценивают свою физическую форму лучше."
   ]
  }
 ],
 "metadata": {
  "kernelspec": {
   "display_name": "Python 3",
   "language": "python",
   "name": "python3"
  },
  "language_info": {
   "codemirror_mode": {
    "name": "ipython",
    "version": 3
   },
   "file_extension": ".py",
   "mimetype": "text/x-python",
   "name": "python",
   "nbconvert_exporter": "python",
   "pygments_lexer": "ipython3",
   "version": "3.8.8"
  }
 },
 "nbformat": 4,
 "nbformat_minor": 5
}
